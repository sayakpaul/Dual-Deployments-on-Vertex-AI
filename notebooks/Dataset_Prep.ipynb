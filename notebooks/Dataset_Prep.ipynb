{
  "nbformat": 4,
  "nbformat_minor": 0,
  "metadata": {
    "colab": {
      "name": "Dataset_Prep",
      "provenance": [],
      "include_colab_link": true
    },
    "kernelspec": {
      "display_name": "Python 3",
      "name": "python3"
    }
  },
  "cells": [
    {
      "cell_type": "markdown",
      "metadata": {
        "id": "view-in-github",
        "colab_type": "text"
      },
      "source": [
        "<a href=\"https://colab.research.google.com/github/sayakpaul/Dual-Deployments-on-Vertex-AI/blob/main/notebooks/Dataset_Prep.ipynb\" target=\"_parent\"><img src=\"https://colab.research.google.com/assets/colab-badge.svg\" alt=\"Open In Colab\"/></a>"
      ]
    },
    {
      "cell_type": "markdown",
      "metadata": {
        "id": "zyOcSJS29gkH"
      },
      "source": [
        "In this notebook, we will use the [Flowers dataset](https://www.tensorflow.org/datasets/catalog/tf_flowers) and create a `.csv` file out of it so that it can be imported into Vertex AI as a [managed dataset](https://cloud.google.com/vertex-ai/docs/training/using-managed-datasets). \n",
        "\n",
        "To proceed with the rest of the notebook you'd need a billing-enabled GCP account. "
      ]
    },
    {
      "cell_type": "markdown",
      "metadata": {
        "id": "TRIz8jbQ-MUb"
      },
      "source": [
        "## Setup"
      ]
    },
    {
      "cell_type": "code",
      "metadata": {
        "id": "lIYdn1woOS1n"
      },
      "source": [
        "!gcloud init"
      ],
      "execution_count": null,
      "outputs": []
    },
    {
      "cell_type": "markdown",
      "metadata": {
        "id": "bG-NwjjB-ioI"
      },
      "source": [
        "## Download the original dataset and copy over to a GCS Bucket"
      ]
    },
    {
      "cell_type": "code",
      "metadata": {
        "id": "dWUoW87xtuQ8"
      },
      "source": [
        "!wget -q https://storage.googleapis.com/download.tensorflow.org/example_images/flower_photos.tgz\n",
        "!tar -xf flower_photos.tgz"
      ],
      "execution_count": null,
      "outputs": []
    },
    {
      "cell_type": "markdown",
      "metadata": {
        "id": "U7nDmdxY-rFr"
      },
      "source": [
        "***If you have a spare bucket, then you can use that for this purpose.*** "
      ]
    },
    {
      "cell_type": "code",
      "metadata": {
        "id": "eqldz8Jkz8se"
      },
      "source": [
        "#@title GCS\n",
        "#@markdown You should change these values as per your preferences. The copy operation can take ~5 minutes. \n",
        "BUCKET_PATH = \"gs://flowers-experimental\" #@param {type:\"string\"}\n",
        "REGION = \"us-central1\" #@param {type:\"string\"}\n",
        "\n",
        "!gsutil mb -l {REGION} {BUCKET_PATH}\n",
        "!gsutil -m cp -r flower_photos {BUCKET_PATH}"
      ],
      "execution_count": null,
      "outputs": []
    },
    {
      "cell_type": "markdown",
      "metadata": {
        "id": "UX7Gw2_h-4Pk"
      },
      "source": [
        "Verify if the files were copied over."
      ]
    },
    {
      "cell_type": "code",
      "metadata": {
        "colab": {
          "base_uri": "https://localhost:8080/"
        },
        "id": "KNfP-pbowVkU",
        "outputId": "2ae0abcb-2ee8-4d22-af6b-16b6bc29c824"
      },
      "source": [
        "!gsutil ls {BUCKET_PATH}/flower_photos/"
      ],
      "execution_count": null,
      "outputs": [
        {
          "output_type": "stream",
          "text": [
            "gs://flowers-experimental/flower_photos/LICENSE.txt\n",
            "gs://flowers-experimental/flower_photos/daisy/\n",
            "gs://flowers-experimental/flower_photos/dandelion/\n",
            "gs://flowers-experimental/flower_photos/roses/\n",
            "gs://flowers-experimental/flower_photos/sunflowers/\n",
            "gs://flowers-experimental/flower_photos/tulips/\n"
          ],
          "name": "stdout"
        }
      ]
    },
    {
      "cell_type": "markdown",
      "metadata": {
        "id": "ZPOBNLDS--Vu"
      },
      "source": [
        "## Imports"
      ]
    },
    {
      "cell_type": "code",
      "metadata": {
        "id": "_u3FHpaAw7He"
      },
      "source": [
        "import random\n",
        "random.seed(666)\n",
        "\n",
        "from google.cloud import storage\n",
        "from pprint import pprint\n",
        "import pandas as pd\n",
        "import os"
      ],
      "execution_count": null,
      "outputs": []
    },
    {
      "cell_type": "code",
      "metadata": {
        "id": "XMN7RXwt_M20"
      },
      "source": [
        "from google.colab import auth\n",
        "auth.authenticate_user()"
      ],
      "execution_count": null,
      "outputs": []
    },
    {
      "cell_type": "markdown",
      "metadata": {
        "id": "utZIHk6p_a5X"
      },
      "source": [
        "## Preparing a single `.csv` file\n",
        "\n",
        "Vertex AI datasets can operate with `.jsonl` and `.csv` formats in order to import datasets. In this notebook, we will be using `.csv`. Here's the structure which Vertex AI expects ([reference](https://cloud.google.com/vertex-ai/docs/datasets/prepare-image#csv)):\n",
        "\n",
        "```\n",
        "[ML_USE],GCS_FILE_PATH,[LABEL]\n",
        "```\n",
        "\n",
        "`ML_USE` stands for the data split - `training`, `valid`, and `test`. "
      ]
    },
    {
      "cell_type": "markdown",
      "metadata": {
        "id": "d-1fItckAh0u"
      },
      "source": [
        "### Derive GCS URIs of the images"
      ]
    },
    {
      "cell_type": "code",
      "metadata": {
        "id": "0aQEzBF-zE9J",
        "colab": {
          "base_uri": "https://localhost:8080/"
        },
        "outputId": "b9f23b24-2a74-49db-fe41-7f67392c32b1"
      },
      "source": [
        "gs_uris = []\n",
        "\n",
        "storage_client = storage.Client(project=\"fast-ai-exploration\") # Change it accordingly.\n",
        "blobs = storage_client.list_blobs(BUCKET_PATH.split(\"/\")[-1])\n",
        "\n",
        "for blob in blobs:\n",
        "    if \".txt\" in blob.name.split(\"/\")[-1]:\n",
        "        continue\n",
        "    gs_uri = os.path.join(BUCKET_PATH, blob.name)\n",
        "    gs_uris.append(gs_uri)\n",
        "\n",
        "pprint(gs_uris[:5])"
      ],
      "execution_count": null,
      "outputs": [
        {
          "output_type": "stream",
          "text": [
            "['gs://flowers-experimental/flower_photos/daisy/100080576_f52e8ee070_n.jpg',\n",
            " 'gs://flowers-experimental/flower_photos/daisy/10140303196_b88d3d6cec.jpg',\n",
            " 'gs://flowers-experimental/flower_photos/daisy/10172379554_b296050f82_n.jpg',\n",
            " 'gs://flowers-experimental/flower_photos/daisy/10172567486_2748826a8b.jpg',\n",
            " 'gs://flowers-experimental/flower_photos/daisy/10172636503_21bededa75_n.jpg']\n"
          ],
          "name": "stdout"
        }
      ]
    },
    {
      "cell_type": "markdown",
      "metadata": {
        "id": "E116FS6sAleK"
      },
      "source": [
        "### Dataset splitting"
      ]
    },
    {
      "cell_type": "code",
      "metadata": {
        "colab": {
          "base_uri": "https://localhost:8080/"
        },
        "id": "1gyb4tbaxMFz",
        "outputId": "743ea2ef-683d-48c1-f981-161c3d1eaa9c"
      },
      "source": [
        "# Create splits.\n",
        "random.shuffle(gs_uris)\n",
        "\n",
        "i = int(len(gs_uris) * 0.9)\n",
        "train_paths = gs_uris[:i]\n",
        "test_paths = gs_uris[i:]\n",
        "\n",
        "i = int(len(train_paths) * 0.05)\n",
        "valid_paths = train_paths[:i]\n",
        "train_paths = train_paths[i:]\n",
        "\n",
        "print(len(train_paths), len(valid_paths), len(test_paths))"
      ],
      "execution_count": null,
      "outputs": [
        {
          "output_type": "stream",
          "text": [
            "3138 165 367\n"
          ],
          "name": "stdout"
        }
      ]
    },
    {
      "cell_type": "markdown",
      "metadata": {
        "id": "Xe9C4yYwA1Ih"
      },
      "source": [
        "### Utility for deriving the labels and `ML_USE`"
      ]
    },
    {
      "cell_type": "code",
      "metadata": {
        "id": "O4cg8hZS1Q1_"
      },
      "source": [
        "def derive_labels(gcs_paths, split=\"training\"):\n",
        "    labels = []\n",
        "    for gcs_path in gcs_paths:\n",
        "        label = gcs_path.split(\"/\")[4]\n",
        "        labels.append(label)\n",
        "    return labels, [split] * len(gcs_paths)"
      ],
      "execution_count": null,
      "outputs": []
    },
    {
      "cell_type": "markdown",
      "metadata": {
        "id": "eXdAM-fvA6fv"
      },
      "source": [
        "### Prepare the lists"
      ]
    },
    {
      "cell_type": "code",
      "metadata": {
        "id": "sQDtn-Ra16ZS"
      },
      "source": [
        "# File format is referred from: https://cloud.google.com/vertex-ai/docs/datasets/prepare-image#csv\n",
        "train_labels, train_use = derive_labels(train_paths)\n",
        "val_labels, val_use = derive_labels(valid_paths, split=\"validation\")\n",
        "test_labels, test_use= derive_labels(test_paths, split=\"test\")"
      ],
      "execution_count": null,
      "outputs": []
    },
    {
      "cell_type": "markdown",
      "metadata": {
        "id": "7CYTVk0XBAKm"
      },
      "source": [
        "### Create `.csv` file"
      ]
    },
    {
      "cell_type": "code",
      "metadata": {
        "id": "lzBXCTox3jnJ"
      },
      "source": [
        "gcs_uris = []\n",
        "labels = []\n",
        "use = []\n",
        "\n",
        "gcs_uris.extend(train_paths)\n",
        "gcs_uris.extend(valid_paths)\n",
        "gcs_uris.extend(test_paths)\n",
        "\n",
        "labels.extend(train_labels)\n",
        "labels.extend(val_labels)\n",
        "labels.extend(test_labels)\n",
        "\n",
        "use.extend(train_use)\n",
        "use.extend(val_use)\n",
        "use.extend(test_use)"
      ],
      "execution_count": null,
      "outputs": []
    },
    {
      "cell_type": "code",
      "metadata": {
        "id": "iKzg-1Rh4EQ8"
      },
      "source": [
        "import csv\n",
        "\n",
        "with open(\"flowers_vertex.csv\", \"w\") as csvfile: \n",
        "    csvwriter = csv.writer(csvfile)\n",
        "    \n",
        "    for ml_use, gcs_uri, label in zip(use, gcs_uris, labels):\n",
        "        row = [ml_use, gcs_uri, label]\n",
        "        csvwriter.writerow(row)  "
      ],
      "execution_count": null,
      "outputs": []
    },
    {
      "cell_type": "code",
      "metadata": {
        "colab": {
          "base_uri": "https://localhost:8080/"
        },
        "id": "7vuj-j-A4y_C",
        "outputId": "921eac5c-9abe-49ef-a017-efeb03c5e4ae"
      },
      "source": [
        "!head -5 flowers_vertex.csv"
      ],
      "execution_count": null,
      "outputs": [
        {
          "output_type": "stream",
          "text": [
            "training,gs://flowers-experimental/flower_photos/sunflowers/4895721788_f10208ab77_n.jpg,sunflowers\r\n",
            "training,gs://flowers-experimental/flower_photos/sunflowers/8202034834_ee0ee91e04_n.jpg,sunflowers\r\n",
            "training,gs://flowers-experimental/flower_photos/daisy/19019544592_b64469bf84_n.jpg,daisy\r\n",
            "training,gs://flowers-experimental/flower_photos/dandelion/4634716478_1cbcbee7ca.jpg,dandelion\r\n",
            "training,gs://flowers-experimental/flower_photos/tulips/12163418275_bd6a1edd61.jpg,tulips\r\n"
          ],
          "name": "stdout"
        }
      ]
    },
    {
      "cell_type": "code",
      "metadata": {
        "colab": {
          "base_uri": "https://localhost:8080/"
        },
        "id": "LSxVlje9BJ_Q",
        "outputId": "e045fcb1-8063-41d8-e207-5c1f6d8e8e54"
      },
      "source": [
        "!tail -5 flowers_vertex.csv"
      ],
      "execution_count": null,
      "outputs": [
        {
          "output_type": "stream",
          "text": [
            "test,gs://flowers-experimental/flower_photos/roses/6363951285_a802238d4e.jpg,roses\r\n",
            "test,gs://flowers-experimental/flower_photos/dandelion/4571923094_b9cefa9438_n.jpg,dandelion\r\n",
            "test,gs://flowers-experimental/flower_photos/roses/2471103806_87ba53d997_n.jpg,roses\r\n",
            "test,gs://flowers-experimental/flower_photos/roses/12238827553_cf427bfd51_n.jpg,roses\r\n",
            "test,gs://flowers-experimental/flower_photos/roses/3663244576_97f595cf4a.jpg,roses\r\n"
          ],
          "name": "stdout"
        }
      ]
    },
    {
      "cell_type": "markdown",
      "metadata": {
        "id": "VgOMd-b-BQqM"
      },
      "source": [
        "## Copy over to a GCS Bucket"
      ]
    },
    {
      "cell_type": "code",
      "metadata": {
        "colab": {
          "base_uri": "https://localhost:8080/"
        },
        "id": "JSTu3ETJBTxP",
        "outputId": "7a89ba6b-5568-4441-ceed-db477c02993b"
      },
      "source": [
        "!gsutil cp flowers_vertex.csv {BUCKET_PATH}"
      ],
      "execution_count": null,
      "outputs": [
        {
          "output_type": "stream",
          "text": [
            "Copying file://flowers_vertex.csv [Content-Type=text/csv]...\n",
            "-\n",
            "Operation completed over 1 objects/334.7 KiB.                                    \n"
          ],
          "name": "stdout"
        }
      ]
    }
  ]
}