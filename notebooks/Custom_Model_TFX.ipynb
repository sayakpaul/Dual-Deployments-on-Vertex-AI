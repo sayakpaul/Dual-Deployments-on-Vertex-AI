{
  "nbformat": 4,
  "nbformat_minor": 0,
  "metadata": {
    "colab": {
      "name": "Custom_Model_TFX.ipynb",
      "provenance": [],
      "collapsed_sections": [],
      "machine_shape": "hm",
      "authorship_tag": "ABX9TyPzl3GOOWfabN4Ca70ksKS0",
      "include_colab_link": true
    },
    "kernelspec": {
      "name": "python3",
      "display_name": "Python 3"
    },
    "language_info": {
      "name": "python"
    },
    "accelerator": "GPU"
  },
  "cells": [
    {
      "cell_type": "markdown",
      "metadata": {
        "id": "view-in-github",
        "colab_type": "text"
      },
      "source": [
        "<a href=\"https://colab.research.google.com/github/sayakpaul/Dual-Deployments-on-Vertex-AI/blob/main/notebooks/Custom_Model_TFX.ipynb\" target=\"_parent\"><img src=\"https://colab.research.google.com/assets/colab-badge.svg\" alt=\"Open In Colab\"/></a>"
      ]
    },
    {
      "cell_type": "markdown",
      "metadata": {
        "id": "mTVp-9PGYFIO"
      },
      "source": [
        "In this notebook, we will build two custom models - one for Endpoint deployment and the other one for mobile deployment. We will write a TFX pipeline to run their training and export. The entire pipeline will be orchestrated using [Vertex AI Pipelines](https://cloud.google.com/vertex-ai/docs/pipelines/introduction). "
      ]
    },
    {
      "cell_type": "markdown",
      "metadata": {
        "id": "W7gJqmqrsfqh"
      },
      "source": [
        "## References\n",
        "\n",
        "This notebook extensively refers to the following two resources and also reuses parts of the code from there: \n",
        "* [Simple TFX Pipeline for Vertex Pipelines](https://colab.research.google.com/github/tensorflow/tfx/blob/master/docs/tutorials/tfx/gcp/vertex_pipelines_simple.ipynb)\n",
        "* [Vertex AI Training with TFX and Vertex Pipelines](https://www.tensorflow.org/tfx/tutorials/tfx/gcp/vertex_pipelines_vertex_training)"
      ]
    },
    {
      "cell_type": "markdown",
      "metadata": {
        "id": "D04aKMGWXjOu"
      },
      "source": [
        "## Setup"
      ]
    },
    {
      "cell_type": "code",
      "metadata": {
        "id": "I_niUhp_TY1G"
      },
      "source": [
        "# Use the latest version of pip.\n",
        "%%capture\n",
        "!pip install --upgrade pip\n",
        "!pip install --upgrade tfx==0.30.0 kfp==1.6.1\n",
        "!pip install -q --upgrade google-cloud-aiplatform"
      ],
      "execution_count": 1,
      "outputs": []
    },
    {
      "cell_type": "markdown",
      "metadata": {
        "id": "ZVmgQ6w1oT_Z"
      },
      "source": [
        "### ***Please restart runtime before continuing.*** "
      ]
    },
    {
      "cell_type": "code",
      "metadata": {
        "id": "mstgsNHWoiXk"
      },
      "source": [
        "!gcloud init"
      ],
      "execution_count": null,
      "outputs": []
    },
    {
      "cell_type": "code",
      "metadata": {
        "id": "Pl8ewjX3oXRx"
      },
      "source": [
        "from google.colab import auth\n",
        "auth.authenticate_user()"
      ],
      "execution_count": 2,
      "outputs": []
    },
    {
      "cell_type": "markdown",
      "metadata": {
        "id": "zqVWpmywXngD"
      },
      "source": [
        "## Imports"
      ]
    },
    {
      "cell_type": "code",
      "metadata": {
        "colab": {
          "base_uri": "https://localhost:8080/"
        },
        "id": "wptXF0e-UXsT",
        "outputId": "6694e7ee-deab-40e0-b23e-cf52ed97a9e6"
      },
      "source": [
        "import tensorflow as tf\n",
        "print('TensorFlow version: {}'.format(tf.__version__))\n",
        "from tfx import v1 as tfx\n",
        "print('TFX version: {}'.format(tfx.__version__))\n",
        "import kfp\n",
        "print('KFP version: {}'.format(kfp.__version__))\n",
        "\n",
        "from google.cloud import aiplatform as vertex_ai\n",
        "import os"
      ],
      "execution_count": 3,
      "outputs": [
        {
          "output_type": "stream",
          "text": [
            "TensorFlow version: 2.4.2\n"
          ],
          "name": "stdout"
        },
        {
          "output_type": "stream",
          "text": [
            "WARNING:absl:RuntimeParameter is only supported on Cloud-based DAG runner currently.\n"
          ],
          "name": "stderr"
        },
        {
          "output_type": "stream",
          "text": [
            "TFX version: 0.30.0\n",
            "KFP version: 1.6.1\n"
          ],
          "name": "stdout"
        }
      ]
    },
    {
      "cell_type": "markdown",
      "metadata": {
        "id": "hFYHeepnXxpZ"
      },
      "source": [
        "## Environment setup"
      ]
    },
    {
      "cell_type": "code",
      "metadata": {
        "id": "zPVyBrXrW-vu"
      },
      "source": [
        "GOOGLE_CLOUD_PROJECT = 'fast-ai-exploration'     #@param {type:\"string\"}\n",
        "GOOGLE_CLOUD_REGION = 'us-central1'              #@param {type:\"string\"}\n",
        "GCS_BUCKET_NAME = 'demo-experiments'             #@param {type:\"string\"}\n",
        "\n",
        "if not (GOOGLE_CLOUD_PROJECT and GOOGLE_CLOUD_REGION and GCS_BUCKET_NAME):\n",
        "    from absl import logging\n",
        "    logging.error('Please set all required parameters.')"
      ],
      "execution_count": 4,
      "outputs": []
    },
    {
      "cell_type": "code",
      "metadata": {
        "colab": {
          "base_uri": "https://localhost:8080/"
        },
        "id": "J65KHrt4X-Fu",
        "outputId": "a958ffa3-3041-4716-e642-68de010fbba0"
      },
      "source": [
        "PIPELINE_NAME = 'two-way-vertex-pipelines'\n",
        "\n",
        "# Path to various pipeline artifact.\n",
        "PIPELINE_ROOT = 'gs://{}/pipeline_root/{}'.format(\n",
        "    GCS_BUCKET_NAME, PIPELINE_NAME)\n",
        "\n",
        "# Paths for users' Python module.\n",
        "MODULE_ROOT = 'gs://{}/pipeline_module/{}'.format(\n",
        "    GCS_BUCKET_NAME, PIPELINE_NAME)\n",
        "\n",
        "# Paths for input data.\n",
        "DATA_ROOT = 'gs://flowers-public/tfrecords-jpeg-224x224'\n",
        "\n",
        "# This is the path where your model will be pushed for serving.\n",
        "SERVING_MODEL_DIR = 'gs://{}/serving_model/{}'.format(\n",
        "    GCS_BUCKET_NAME, PIPELINE_NAME)\n",
        "\n",
        "print('PIPELINE_ROOT: {}'.format(PIPELINE_ROOT))"
      ],
      "execution_count": 5,
      "outputs": [
        {
          "output_type": "stream",
          "text": [
            "PIPELINE_ROOT: gs://demo-experiments/pipeline_root/two-way-vertex-pipelines\n"
          ],
          "name": "stdout"
        }
      ]
    },
    {
      "cell_type": "markdown",
      "metadata": {
        "id": "kQVpzyftX0y0"
      },
      "source": [
        "## Create training modules"
      ]
    },
    {
      "cell_type": "code",
      "metadata": {
        "id": "AR5pU65m6nAE"
      },
      "source": [
        "_trainer_densenet_module_file = 'flower_densenet_trainer.py'\n",
        "_trainer_mobilenet_module_file = 'flower_mobilenet_trainer.py'"
      ],
      "execution_count": 6,
      "outputs": []
    },
    {
      "cell_type": "code",
      "metadata": {
        "colab": {
          "base_uri": "https://localhost:8080/"
        },
        "id": "XqwYrR1GYLvm",
        "outputId": "e66336d9-40a4-454e-a803-1eaf3fc206cd"
      },
      "source": [
        "%%writefile {_trainer_densenet_module_file}\n",
        "\n",
        "from typing import List\n",
        "from absl import logging\n",
        "from tensorflow import keras\n",
        "from tfx import v1 as tfx\n",
        "import tensorflow as tf\n",
        "\n",
        "\n",
        "_IMAGE_FEATURES = {\n",
        "    \"image\": tf.io.FixedLenFeature([], tf.string),  # tf.string means bytestring\n",
        "    \"class\": tf.io.FixedLenFeature([], tf.int64),  # shape [] means scalar\n",
        "    \"one_hot_class\": tf.io.VarLenFeature(tf.float32),\n",
        "}\n",
        "\n",
        "_INPUT_SHAPE = (224, 224, 3)\n",
        "_TRAIN_BATCH_SIZE = 64\n",
        "_EVAL_BATCH_SIZE = 64\n",
        "_EPOCHS = 10\n",
        "\n",
        "\n",
        "def _parse_fn(example):\n",
        "    example = tf.io.parse_single_example(example, _IMAGE_FEATURES)\n",
        "    image = tf.image.decode_jpeg(example[\"image\"], channels=3)\n",
        "    class_label = tf.cast(example[\"class\"], tf.int32)\n",
        "    return image, class_label\n",
        "\n",
        "\n",
        "def _input_fn(file_pattern: List[str], batch_size: int) -> tf.data.Dataset:\n",
        "    \"\"\"Generates features and label for training.\n",
        "\n",
        "    Args:\n",
        "        file_pattern: List of paths or patterns of input tfrecord files.\n",
        "        batch_size: representing the number of consecutive elements of returned\n",
        "            dataset to combine in a single batch.\n",
        "\n",
        "    Returns:\n",
        "        A dataset that contains (features, indices) tuple where features is a\n",
        "            dictionary of Tensors, and indices is a single Tensor of label indices.\n",
        "    \"\"\"\n",
        "    logging.info(f\"Reading data from: {file_pattern}\")\n",
        "    tfrecord_filenames = tf.io.gfile.glob(file_pattern[0] + \".gz\")\n",
        "    dataset = tf.data.TFRecordDataset(tfrecord_filenames, compression_type=\"GZIP\")\n",
        "    dataset = dataset.map(_parse_fn).batch(batch_size)\n",
        "    return dataset.repeat()\n",
        "\n",
        "\n",
        "def _make_keras_model() -> tf.keras.Model:\n",
        "    \"\"\"Creates a DenseNet121-bases model for classifying flowers data.\n",
        "\n",
        "    Returns:\n",
        "    A Keras Model.\n",
        "    \"\"\"\n",
        "    inputs = keras.Input(shape=_INPUT_SHAPE)\n",
        "    base_model = keras.applications.DenseNet121(\n",
        "        include_top=False, input_shape=_INPUT_SHAPE, pooling=\"avg\"\n",
        "    )\n",
        "    base_model.trainable = False\n",
        "    x = keras.applications.densenet.preprocess_input(inputs)\n",
        "    x = base_model(\n",
        "        x, training=False\n",
        "    )  # Ensures BatchNorm runs in inference model in this model\n",
        "    outputs = keras.layers.Dense(5, activation=\"softmax\")(x)\n",
        "    model = keras.Model(inputs, outputs)\n",
        "\n",
        "    model.compile(\n",
        "        optimizer=keras.optimizers.Adam(),\n",
        "        loss=tf.keras.losses.SparseCategoricalCrossentropy(),\n",
        "        metrics=[keras.metrics.SparseCategoricalAccuracy()],\n",
        "    )\n",
        "\n",
        "    model.summary(print_fn=logging.info)\n",
        "    return model\n",
        "\n",
        "\n",
        "# TFX Trainer will call this function.\n",
        "def run_fn(fn_args: tfx.components.FnArgs):\n",
        "    \"\"\"Train the model based on given args.\n",
        "\n",
        "    Args:\n",
        "        fn_args: Holds args used to train the model as name/value pairs.\n",
        "    \"\"\"\n",
        "    train_dataset = _input_fn(fn_args.train_files, batch_size=_TRAIN_BATCH_SIZE)\n",
        "    eval_dataset = _input_fn(fn_args.eval_files, batch_size=_EVAL_BATCH_SIZE)\n",
        "\n",
        "    model = _make_keras_model()\n",
        "    model.fit(\n",
        "        train_dataset,\n",
        "        steps_per_epoch=fn_args.train_steps,\n",
        "        validation_data=eval_dataset,\n",
        "        validation_steps=fn_args.eval_steps,\n",
        "        epochs=_EPOCHS,\n",
        "    )\n",
        "    _, acc = model.evaluate(eval_dataset, steps=fn_args.eval_steps)\n",
        "    logging.info(f\"Validation accuracy: {round(acc * 100, 2)}%\")\n",
        "    # The result of the training should be saved in `fn_args.serving_model_dir`\n",
        "    # directory.\n",
        "    model.save(fn_args.serving_model_dir, save_format=\"tf\")\n"
      ],
      "execution_count": 7,
      "outputs": [
        {
          "output_type": "stream",
          "text": [
            "Writing flower_densenet_trainer.py\n"
          ],
          "name": "stdout"
        }
      ]
    },
    {
      "cell_type": "code",
      "metadata": {
        "colab": {
          "base_uri": "https://localhost:8080/"
        },
        "id": "tIFDOw5cmqd1",
        "outputId": "5bef6ba0-4409-4745-8c03-9086777dafc2"
      },
      "source": [
        "%%writefile {_trainer_mobilenet_module_file}\n",
        "\n",
        "from typing import List\n",
        "from absl import logging\n",
        "import tensorflow as tf\n",
        "from tensorflow import keras\n",
        "\n",
        "from tfx import v1 as tfx\n",
        "\n",
        "_IMAGE_FEATURES = {\n",
        "    \"image\": tf.io.FixedLenFeature([], tf.string),  # tf.string means bytestring\n",
        "    \"class\": tf.io.FixedLenFeature([], tf.int64),  # shape [] means scalar\n",
        "    \"one_hot_class\": tf.io.VarLenFeature(tf.float32),\n",
        "}\n",
        "\n",
        "_INPUT_SHAPE = (224, 224, 3)\n",
        "_TRAIN_BATCH_SIZE = 64\n",
        "_EVAL_BATCH_SIZE = 64\n",
        "_EPOCHS = 10\n",
        "\n",
        "\n",
        "def _parse_fn(example):\n",
        "    example = tf.io.parse_single_example(example, _IMAGE_FEATURES)\n",
        "    image = tf.image.decode_jpeg(example[\"image\"], channels=3)\n",
        "    class_label = tf.cast(example[\"class\"], tf.int32)\n",
        "    return image, class_label\n",
        "\n",
        "\n",
        "def _input_fn(file_pattern: List[str], batch_size: int) -> tf.data.Dataset:\n",
        "    \"\"\"Generates features and label for training.\n",
        "\n",
        "    Args:\n",
        "        file_pattern: List of paths or patterns of input tfrecord files.\n",
        "        batch_size: representing the number of consecutive elements of returned\n",
        "            dataset to combine in a single batch.\n",
        "\n",
        "    Returns:\n",
        "        A dataset that contains (features, indices) tuple where features is a\n",
        "            dictionary of Tensors, and indices is a single Tensor of label indices.\n",
        "    \"\"\"\n",
        "    logging.info(f\"Reading data from: {file_pattern}\")\n",
        "    tfrecord_filenames = tf.io.gfile.glob(file_pattern[0] + \".gz\")\n",
        "    dataset = tf.data.TFRecordDataset(tfrecord_filenames, compression_type=\"GZIP\")\n",
        "    dataset = dataset.map(_parse_fn).batch(batch_size)\n",
        "    return dataset.repeat()\n",
        "\n",
        "\n",
        "def _make_keras_model() -> tf.keras.Model:\n",
        "    \"\"\"Creates a MobileNetV3-bases model for classifying flowers data.\n",
        "\n",
        "    Returns:\n",
        "    A Keras Model.\n",
        "    \"\"\"\n",
        "    inputs = keras.Input(shape=_INPUT_SHAPE)\n",
        "    base_model = keras.applications.MobileNetV3Small(\n",
        "        include_top=False, input_shape=_INPUT_SHAPE, pooling=\"avg\"\n",
        "    )\n",
        "    base_model.trainable = False\n",
        "    x = keras.applications.mobilenet_v3.preprocess_input(inputs)\n",
        "    x = base_model(\n",
        "        x, training=False\n",
        "    )  # Ensures BatchNorm runs in inference model in this model\n",
        "    outputs = keras.layers.Dense(5, activation=\"softmax\")(x)\n",
        "    model = keras.Model(inputs, outputs)\n",
        "\n",
        "    model.compile(\n",
        "        optimizer=keras.optimizers.Adam(),\n",
        "        loss=tf.keras.losses.SparseCategoricalCrossentropy(),\n",
        "        metrics=[keras.metrics.SparseCategoricalAccuracy()],\n",
        "    )\n",
        "\n",
        "    model.summary(print_fn=logging.info)\n",
        "    return model\n",
        "\n",
        "\n",
        "# TFX Trainer will call this function.\n",
        "def run_fn(fn_args: tfx.components.FnArgs):\n",
        "    \"\"\"Train the model based on given args.\n",
        "\n",
        "    Args:\n",
        "        fn_args: Holds args used to train the model as name/value pairs.\n",
        "    \"\"\"\n",
        "    train_dataset = _input_fn(fn_args.train_files, batch_size=_TRAIN_BATCH_SIZE)\n",
        "    eval_dataset = _input_fn(fn_args.eval_files, batch_size=_EVAL_BATCH_SIZE)\n",
        "\n",
        "    model = _make_keras_model()\n",
        "    model.fit(\n",
        "        train_dataset,\n",
        "        steps_per_epoch=fn_args.train_steps,\n",
        "        validation_data=eval_dataset,\n",
        "        validation_steps=fn_args.eval_steps,\n",
        "        epochs=_EPOCHS,\n",
        "    )\n",
        "    _, acc = model.evaluate(eval_dataset, steps=fn_args.eval_steps)\n",
        "    logging.info(f\"Validation accuracy: {round(acc * 100, 2)}%\")\n",
        "    # The result of the training should be saved in `fn_args.serving_model_dir`\n",
        "    # directory.\n",
        "    model.save(fn_args.serving_model_dir, save_format=\"tf\")"
      ],
      "execution_count": 8,
      "outputs": [
        {
          "output_type": "stream",
          "text": [
            "Writing flower_mobilenet_trainer.py\n"
          ],
          "name": "stdout"
        }
      ]
    },
    {
      "cell_type": "code",
      "metadata": {
        "colab": {
          "base_uri": "https://localhost:8080/"
        },
        "id": "Gp7RTxpMoLe9",
        "outputId": "2022d2c0-980c-4313-85bd-bcdd9da72779"
      },
      "source": [
        "!gsutil cp -r *.py {MODULE_ROOT}/\n",
        "!gsutil ls -lh {MODULE_ROOT}/"
      ],
      "execution_count": 9,
      "outputs": [
        {
          "output_type": "stream",
          "text": [
            "Copying file://flower_densenet_trainer.py [Content-Type=text/x-python]...\n",
            "Copying file://flower_mobilenet_trainer.py [Content-Type=text/x-python]...\n",
            "-\n",
            "Operation completed over 2 objects/6.4 KiB.                                      \n",
            "  3.21 KiB  2021-08-01T02:12:26Z  gs://demo-experiments/pipeline_module/two-way-vertex-pipelines/flower_densenet_trainer.py\n",
            "  3.22 KiB  2021-08-01T02:12:26Z  gs://demo-experiments/pipeline_module/two-way-vertex-pipelines/flower_mobilenet_trainer.py\n",
            "TOTAL: 2 objects, 6581 bytes (6.43 KiB)\n"
          ],
          "name": "stdout"
        }
      ]
    },
    {
      "cell_type": "markdown",
      "metadata": {
        "id": "-qX4M-C6X4LF"
      },
      "source": [
        "## Create the pipeline"
      ]
    },
    {
      "cell_type": "code",
      "metadata": {
        "id": "MzZdpUjypcsT"
      },
      "source": [
        "from datetime import datetime\n",
        "\n",
        "TIMESTAMP = datetime.now().strftime(\"%Y%m%d%H%M%S\")"
      ],
      "execution_count": 10,
      "outputs": []
    },
    {
      "cell_type": "code",
      "metadata": {
        "id": "SYaypU11e-cG"
      },
      "source": [
        "_vertex_uploader_module_file = 'vertex_uploader.py'\n",
        "_vertex_deployer_module_file = 'vertex_deployer.py'"
      ],
      "execution_count": 11,
      "outputs": []
    },
    {
      "cell_type": "code",
      "metadata": {
        "id": "pBj_WnLw6oRR",
        "outputId": "678e3b1a-556e-4e7d-dca3-3f377c289582",
        "colab": {
          "base_uri": "https://localhost:8080/"
        }
      },
      "source": [
        "%%writefile {_vertex_uploader_module_file}\n",
        "\n",
        "from tfx.dsl.component.experimental.decorators import component\n",
        "from tfx.dsl.component.experimental.annotations import Parameter\n",
        "from google.cloud import aiplatform as vertex_ai\n",
        "from tfx import v1 as tfx\n",
        "from absl import logging\n",
        "\n",
        "\n",
        "@component\n",
        "def VertexUploader(\n",
        "    project: Parameter[str],\n",
        "    region: Parameter[str],\n",
        "    model_display_name: Parameter[str],\n",
        "    pushed_model_location: Parameter[str],\n",
        "    serving_image_uri: Parameter[str],\n",
        ") -> tfx.dsl.components.OutputDict(model_name=str):\n",
        "\n",
        "    vertex_ai.init(project=project, location=region)\n",
        "\n",
        "    pushed_model_dir = os.path.join(\n",
        "        pushed_model_location, tf.io.gfile.listdir(pushed_model_location)[-1]\n",
        "    )\n",
        "\n",
        "    logging.info(f\"Model registry location: {pushed_model_dir}\")\n",
        "\n",
        "    vertex_model = vertex_ai.Model.upload(\n",
        "        display_name=model_display_name,\n",
        "        artifact_uri=pushed_model_dir,\n",
        "        serving_container_image_uri=serving_image_uri,\n",
        "        parameters_schema_uri=None,\n",
        "        instance_schema_uri=None,\n",
        "        explanation_metadata=None,\n",
        "        explanation_parameters=None,\n",
        "    )\n",
        "\n",
        "    model_uri = vertex_model.gca_resource.name\n",
        "    logging.info(f\"Model uploaded to: {model_uri}\")\n",
        "    return {\"model_name\": str(vertex_model.display_name)}\n"
      ],
      "execution_count": 22,
      "outputs": [
        {
          "output_type": "stream",
          "text": [
            "Overwriting vertex_uploader.py\n"
          ],
          "name": "stdout"
        }
      ]
    },
    {
      "cell_type": "code",
      "metadata": {
        "id": "awNiJiZ1fZsp",
        "outputId": "85dbade8-ed34-4c3c-a49a-9631f947d5e2",
        "colab": {
          "base_uri": "https://localhost:8080/"
        }
      },
      "source": [
        "%%writefile {_vertex_deployer_module_file}\n",
        "\n",
        "from tfx.dsl.component.experimental.decorators import component\n",
        "from tfx.dsl.component.experimental.annotations import Parameter\n",
        "from google.cloud import aiplatform as vertex_ai\n",
        "from tfx import v1 as tfx\n",
        "from absl import logging\n",
        "\n",
        "\n",
        "@component\n",
        "def VertexDeployer(\n",
        "    project: Parameter[str],\n",
        "    location: Parameter[str],\n",
        "    model_name: Parameter[str],\n",
        "    machine_type: Parameter[str],\n",
        "    deployed_model_display_name: Parameter[str],\n",
        ") -> tfx.dsl.components.OutputDict(endpoint_name=str):\n",
        "\n",
        "    vertex_ai.init(project=project, location=region)\n",
        "\n",
        "    model = vertex_ai.Model(model_name=model_name)\n",
        "    endpoint = model.deploy(\n",
        "        deployed_model_display_name=deployed_model_display_name,\n",
        "        traffic_split={\"0\": 100},\n",
        "        machine_type=machine_type,\n",
        "        min_replica_count=1,\n",
        "        max_replica_count=1,\n",
        "        sync=True,\n",
        "    )\n",
        "    logging.info(f\"Model deployed to: {endpoint}\")\n",
        "    return {\"endpoint_name\": str(endpoint)}\n"
      ],
      "execution_count": 23,
      "outputs": [
        {
          "output_type": "stream",
          "text": [
            "Overwriting vertex_deployer.py\n"
          ],
          "name": "stdout"
        }
      ]
    },
    {
      "cell_type": "code",
      "metadata": {
        "id": "p82vHDSvfhpg"
      },
      "source": [
        "!mkdir custom_components && cd custom_components && touch __init__.py\n",
        "!cp -r {_vertex_uploader_module_file} {_vertex_deployer_module_file} custom_components"
      ],
      "execution_count": 25,
      "outputs": []
    },
    {
      "cell_type": "code",
      "metadata": {
        "id": "6lYqdi7Tfulx",
        "outputId": "5f7a6fc7-f161-4eeb-ef80-2a6ae90b161e",
        "colab": {
          "base_uri": "https://localhost:8080/"
        }
      },
      "source": [
        "!ls -lh custom_components"
      ],
      "execution_count": 26,
      "outputs": [
        {
          "output_type": "stream",
          "text": [
            "total 8.0K\n",
            "-rw-r--r-- 1 root root    0 Aug  1 02:34 __init__.py\n",
            "-rw-r--r-- 1 root root  939 Aug  1 02:34 vertex_deployer.py\n",
            "-rw-r--r-- 1 root root 1.2K Aug  1 02:34 vertex_uploader.py\n"
          ],
          "name": "stdout"
        }
      ]
    },
    {
      "cell_type": "code",
      "metadata": {
        "id": "h9j867lPfyM8",
        "outputId": "e0c9b2b5-5e5b-450b-8d3b-d5265f4b27c7",
        "colab": {
          "base_uri": "https://localhost:8080/"
        }
      },
      "source": [
        "DATASET_DISPLAY_NAME = \"flowers\"\n",
        "VERSION = \"tfx-0-30\"\n",
        "TFX_IMAGE_URI = f\"gcr.io/{GOOGLE_CLOUD_PROJECT}/{DATASET_DISPLAY_NAME}:{VERSION}\"\n",
        "print(f\"URI of the custom image: {TFX_IMAGE_URI}\")"
      ],
      "execution_count": 27,
      "outputs": [
        {
          "output_type": "stream",
          "text": [
            "URI of the custom image: gcr.io/fast-ai-exploration/flowers:tfx-0-30\n"
          ],
          "name": "stdout"
        }
      ]
    },
    {
      "cell_type": "code",
      "metadata": {
        "id": "F3YcE0xUgOh8",
        "outputId": "433df7f4-9d5c-4554-e354-f3923cc41184",
        "colab": {
          "base_uri": "https://localhost:8080/"
        }
      },
      "source": [
        "%%writefile Dockerfile\n",
        "\n",
        "FROM gcr.io/tfx-oss-public/tfx:0.30.0\n",
        "COPY custom_components custom_components\n",
        "RUN pip install --upgrade google-cloud-aiplatform"
      ],
      "execution_count": 39,
      "outputs": [
        {
          "output_type": "stream",
          "text": [
            "Overwriting Dockerfile\n"
          ],
          "name": "stdout"
        }
      ]
    },
    {
      "cell_type": "code",
      "metadata": {
        "id": "hEydNZrHg6_J"
      },
      "source": [
        "!gcloud builds submit --tag $TFX_IMAGE_URI . --timeout=15m --machine-type=e2-highcpu-8"
      ],
      "execution_count": null,
      "outputs": []
    },
    {
      "cell_type": "code",
      "metadata": {
        "id": "sEbNM9CeERX2"
      },
      "source": [
        "# Specify training worker configurations. To minimize costs we can even specify two\n",
        "# different configurations: a beefier machine for the Endpoint model and slightly less\n",
        "# powerful machine for the mobile model.\n",
        "TRAINING_JOB_SPEC = {\n",
        "    'project': GOOGLE_CLOUD_PROJECT,\n",
        "    'worker_pool_specs': [{\n",
        "        'machine_spec': {\n",
        "            'machine_type': 'n1-standard-4',\n",
        "            'accelerator_type': 'NVIDIA_TESLA_K80',\n",
        "            'accelerator_count': 1\n",
        "        },\n",
        "        'replica_count': 1,\n",
        "        'container_spec': {\n",
        "            'image_uri': 'gcr.io/tfx-oss-public/tfx:{}'.format(tfx.__version__),\n",
        "        },\n",
        "    }],\n",
        "}"
      ],
      "execution_count": 20,
      "outputs": []
    },
    {
      "cell_type": "code",
      "metadata": {
        "id": "ln1cvbcfphA9"
      },
      "source": [
        "from custom_components import vertex_uploader, vertex_deployer\n",
        "\n",
        "def _create_pipeline(pipeline_name: str, pipeline_root: str, data_root: str,\n",
        "                     densenet_module_file: str, mobilenet_module_file: str,\n",
        "                     serving_model_dir: str, project_id: str,\n",
        "                     region: str) -> tfx.dsl.Pipeline:\n",
        "    \"\"\"Creates a three component flowers pipeline with TFX.\"\"\"\n",
        "    # Brings data into the pipeline.\n",
        "    # input_base: gs://flowers-public/tfrecords-jpeg-224x224\n",
        "    example_gen = tfx.components.ImportExampleGen(input_base=data_root)\n",
        "\n",
        "    # Uses user-provided Python function that trains a model.\n",
        "    densenet_trainer = tfx.extensions.google_cloud_ai_platform.Trainer(\n",
        "        module_file=densenet_module_file,\n",
        "        examples=example_gen.outputs['examples'],\n",
        "        train_args=tfx.proto.TrainArgs(num_steps=52),\n",
        "        eval_args=tfx.proto.EvalArgs(num_steps=5),\n",
        "        custom_config={\n",
        "            tfx.extensions.google_cloud_ai_platform.ENABLE_UCAIP_KEY:\n",
        "                True,\n",
        "            tfx.extensions.google_cloud_ai_platform.UCAIP_REGION_KEY:\n",
        "                region,\n",
        "            tfx.extensions.google_cloud_ai_platform.TRAINING_ARGS_KEY:\n",
        "                TRAINING_JOB_SPEC,\n",
        "            'use_gpu':\n",
        "                True,\n",
        "        }\n",
        "    ).with_id(\"densenet_trainer\")\n",
        "\n",
        "    # Pushes the model to a filesystem destination.\n",
        "    pushed_model_location = os.path.join(serving_model_dir, \"densenet\")\n",
        "    densnet_pusher = tfx.components.Pusher(\n",
        "        model=densenet_trainer.outputs['model'],\n",
        "        push_destination=tfx.proto.PushDestination(\n",
        "            filesystem=tfx.proto.PushDestination.Filesystem(\n",
        "                base_directory=pushed_model_location))).with_id(\"densnet_pusher\")\n",
        "    \n",
        "    # Vertex AI upload.\n",
        "    uploader = vertex_uploader.VertexUploader(\n",
        "        project=project_id,\n",
        "        region=region,\n",
        "        model_display_name=\"densenet_flowers\",\n",
        "        pushed_model_location=pushed_model_location,\n",
        "        serving_image_uri=TFX_IMAGE_URI # Using the image we built.\n",
        "    ).with_id(\"vertex_uploader\")\n",
        "    uploader.add_upstream_node(densnet_pusher)\n",
        "\n",
        "    # Create an endpoint.\n",
        "    deployer = vertex_deployer.VertexDeployer(\n",
        "        project=project_id,\n",
        "        location=region,\n",
        "        model_name=str(uploader.outputs[\"model_name\"]),\n",
        "        machine_type=\"n1-standard-4\",\n",
        "        deployed_model_display_name=str(uploader.outputs[\"model_name\"]) + \"_\" + TIMESTAMP\n",
        "    ).with_id(\"vertex_deployer\")\n",
        "    deployer.add_upstream_node(uploader)\n",
        "\n",
        "    # Same for the MobileNet-based model. But it will be later pushed\n",
        "    # to Firebase since it offers better features for TFLite. For now, we'll\n",
        "    # be pushing the model to a GCS location.\n",
        "    mobilenet_trainer = tfx.extensions.google_cloud_ai_platform.Trainer(\n",
        "        module_file=mobilenet_module_file,\n",
        "        examples=example_gen.outputs['examples'],\n",
        "        train_args=tfx.proto.TrainArgs(num_steps=52),\n",
        "        eval_args=tfx.proto.EvalArgs(num_steps=5),\n",
        "        custom_config={\n",
        "            tfx.extensions.google_cloud_ai_platform.ENABLE_UCAIP_KEY:\n",
        "                True,\n",
        "            tfx.extensions.google_cloud_ai_platform.UCAIP_REGION_KEY:\n",
        "                region,\n",
        "            tfx.extensions.google_cloud_ai_platform.TRAINING_ARGS_KEY:\n",
        "                TRAINING_JOB_SPEC,\n",
        "            'use_gpu':\n",
        "                True,\n",
        "        }\n",
        "    ).with_id(\"mobilenet_trainer\")\n",
        "\n",
        "    pushed_location_mobilenet = os.path.join(serving_model_dir, \"mobilenet\")\n",
        "    mobilenet_pusher = tfx.components.Pusher(\n",
        "        model=mobilenet_trainer.outputs['model'],\n",
        "        push_destination=tfx.proto.PushDestination(\n",
        "            filesystem=tfx.proto.PushDestination.Filesystem(\n",
        "                base_directory=pushed_location_mobilenet))).with_id(\"mobilenet_pusher\")\n",
        "\n",
        "    # Following components will be included in the pipeline.\n",
        "    components = [\n",
        "        example_gen,\n",
        "        densenet_trainer, densnet_pusher, uploader, deployer,\n",
        "        mobilenet_trainer, mobilenet_pusher\n",
        "    ]\n",
        "\n",
        "    return tfx.dsl.Pipeline(\n",
        "        pipeline_name=pipeline_name,\n",
        "        pipeline_root=pipeline_root,\n",
        "        components=components)"
      ],
      "execution_count": 41,
      "outputs": []
    },
    {
      "cell_type": "markdown",
      "metadata": {
        "id": "IFdlslfOX54z"
      },
      "source": [
        "## Compile the pipeline"
      ]
    },
    {
      "cell_type": "code",
      "metadata": {
        "id": "-AY5Z2tbsbwE"
      },
      "source": [
        "PIPELINE_DEFINITION_FILE = PIPELINE_NAME + '_pipeline.json'\n",
        "\n",
        "runner = tfx.orchestration.experimental.KubeflowV2DagRunner(\n",
        "    config=tfx.orchestration.experimental.KubeflowV2DagRunnerConfig(),\n",
        "    output_filename=PIPELINE_DEFINITION_FILE)\n",
        "\n",
        "_ = runner.run(\n",
        "    _create_pipeline(\n",
        "        pipeline_name=PIPELINE_NAME,\n",
        "        pipeline_root=PIPELINE_ROOT,\n",
        "        data_root=DATA_ROOT,\n",
        "        densenet_module_file=os.path.join(MODULE_ROOT, _trainer_densenet_module_file),\n",
        "        mobilenet_module_file=os.path.join(MODULE_ROOT, _trainer_mobilenet_module_file),\n",
        "        serving_model_dir=SERVING_MODEL_DIR,\n",
        "        project_id=GOOGLE_CLOUD_PROJECT,\n",
        "        region=GOOGLE_CLOUD_REGION\n",
        "    )\n",
        ")"
      ],
      "execution_count": 42,
      "outputs": []
    },
    {
      "cell_type": "markdown",
      "metadata": {
        "id": "ocHBJaR_X7x2"
      },
      "source": [
        "## Submit the pipeline for execution to Vertex AI\n",
        "\n",
        "Generally, it's a good idea to first do a local run of the end-to-end pipeline before submitting it an online orchestrator. We can use `tfx.orchestration.LocalDagRunner()` for that but for the purposes of this notebook we won't be doing that. "
      ]
    },
    {
      "cell_type": "code",
      "metadata": {
        "colab": {
          "base_uri": "https://localhost:8080/",
          "height": 51
        },
        "id": "3elrtDOus83z",
        "outputId": "5ebeb689-a058-4f67-f600-4b7ce659842e"
      },
      "source": [
        "from kfp.v2.google import client\n",
        "\n",
        "pipelines_client = client.AIPlatformClient(\n",
        "    project_id=GOOGLE_CLOUD_PROJECT,\n",
        "    region=GOOGLE_CLOUD_REGION,\n",
        ")\n",
        "\n",
        "_ = pipelines_client.create_run_from_job_spec(PIPELINE_DEFINITION_FILE, enable_caching=True)"
      ],
      "execution_count": 43,
      "outputs": [
        {
          "output_type": "stream",
          "text": [
            "WARNING:google.auth._default:No project ID could be determined. Consider running `gcloud config set project` or setting the GOOGLE_CLOUD_PROJECT environment variable\n"
          ],
          "name": "stderr"
        },
        {
          "output_type": "display_data",
          "data": {
            "text/html": [
              "See the Pipeline job <a href=\"https://console.cloud.google.com/vertex-ai/locations/us-central1/pipelines/runs/two-way-vertex-pipelines-20210801031817?project=fast-ai-exploration\" target=\"_blank\" >here</a>."
            ],
            "text/plain": [
              "<IPython.core.display.HTML object>"
            ]
          },
          "metadata": {
            "tags": []
          }
        }
      ]
    },
    {
      "cell_type": "markdown",
      "metadata": {
        "id": "YX3pFWlhN_jR"
      },
      "source": [
        "The pipeline should come out as the following:\n",
        "\n",
        "![](https://i.ibb.co/W0PH2cp/image.png)"
      ]
    },
    {
      "cell_type": "markdown",
      "metadata": {
        "id": "tHUZObAiX-Nb"
      },
      "source": [
        "## Listing all the pipelines"
      ]
    },
    {
      "cell_type": "code",
      "metadata": {
        "colab": {
          "base_uri": "https://localhost:8080/",
          "height": 142
        },
        "id": "7ScAn0pxVLv2",
        "outputId": "269838f0-de62-4293-b19e-1b3a835bdb05"
      },
      "source": [
        "vertex_ai.init(project=GOOGLE_CLOUD_PROJECT, \n",
        "               location=GOOGLE_CLOUD_REGION, \n",
        "               staging_bucket=\"gs://\" + GCS_BUCKET_NAME)\n",
        "\n",
        "pipeline_df = vertex_ai.get_pipeline_df(PIPELINE_NAME)\n",
        "pipeline_df = pipeline_df[pipeline_df.pipeline_name == PIPELINE_NAME]\n",
        "pipeline_df.head(3)"
      ],
      "execution_count": null,
      "outputs": [
        {
          "output_type": "execute_result",
          "data": {
            "text/html": [
              "<div>\n",
              "<style scoped>\n",
              "    .dataframe tbody tr th:only-of-type {\n",
              "        vertical-align: middle;\n",
              "    }\n",
              "\n",
              "    .dataframe tbody tr th {\n",
              "        vertical-align: top;\n",
              "    }\n",
              "\n",
              "    .dataframe thead th {\n",
              "        text-align: right;\n",
              "    }\n",
              "</style>\n",
              "<table border=\"1\" class=\"dataframe\">\n",
              "  <thead>\n",
              "    <tr style=\"text-align: right;\">\n",
              "      <th></th>\n",
              "      <th>pipeline_name</th>\n",
              "      <th>run_name</th>\n",
              "    </tr>\n",
              "  </thead>\n",
              "  <tbody>\n",
              "    <tr>\n",
              "      <th>0</th>\n",
              "      <td>two-way-vertex-pipelines</td>\n",
              "      <td>two-way-vertex-pipelines-20210730155639</td>\n",
              "    </tr>\n",
              "    <tr>\n",
              "      <th>1</th>\n",
              "      <td>two-way-vertex-pipelines</td>\n",
              "      <td>two-way-vertex-pipelines-20210730131343</td>\n",
              "    </tr>\n",
              "    <tr>\n",
              "      <th>2</th>\n",
              "      <td>two-way-vertex-pipelines</td>\n",
              "      <td>two-way-vertex-pipelines-20210730125928</td>\n",
              "    </tr>\n",
              "  </tbody>\n",
              "</table>\n",
              "</div>"
            ],
            "text/plain": [
              "              pipeline_name                                 run_name\n",
              "0  two-way-vertex-pipelines  two-way-vertex-pipelines-20210730155639\n",
              "1  two-way-vertex-pipelines  two-way-vertex-pipelines-20210730131343\n",
              "2  two-way-vertex-pipelines  two-way-vertex-pipelines-20210730125928"
            ]
          },
          "metadata": {
            "tags": []
          },
          "execution_count": 13
        }
      ]
    },
    {
      "cell_type": "markdown",
      "metadata": {
        "id": "e-757SqrYhf3"
      },
      "source": [
        "## To be added\n",
        "\n",
        "* Model uploader to Vertex AI with a custom component. [This](https://github.com/GoogleCloudPlatform/mlops-with-vertex-ai/blob/main/src/tfx_pipelines/components.py#L74) will be a good reference. "
      ]
    }
  ]
}